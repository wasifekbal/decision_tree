{
 "cells": [
  {
   "cell_type": "code",
   "execution_count": 1,
   "metadata": {},
   "outputs": [],
   "source": [
    "import pandas as pd\n",
    "import numpy as np"
   ]
  },
  {
   "cell_type": "markdown",
   "metadata": {},
   "source": [
    "#### Note :- I have used log base e for the entire assignment."
   ]
  },
  {
   "cell_type": "markdown",
   "metadata": {},
   "source": [
    "## Part 1 :-  Tennis dataset."
   ]
  },
  {
   "cell_type": "code",
   "execution_count": 2,
   "metadata": {},
   "outputs": [],
   "source": [
    "df = pd.read_csv('play_tennis.csv')"
   ]
  },
  {
   "cell_type": "code",
   "execution_count": 3,
   "metadata": {},
   "outputs": [
    {
     "data": {
      "text/html": [
       "<div>\n",
       "<style scoped>\n",
       "    .dataframe tbody tr th:only-of-type {\n",
       "        vertical-align: middle;\n",
       "    }\n",
       "\n",
       "    .dataframe tbody tr th {\n",
       "        vertical-align: top;\n",
       "    }\n",
       "\n",
       "    .dataframe thead th {\n",
       "        text-align: right;\n",
       "    }\n",
       "</style>\n",
       "<table border=\"1\" class=\"dataframe\">\n",
       "  <thead>\n",
       "    <tr style=\"text-align: right;\">\n",
       "      <th></th>\n",
       "      <th>day</th>\n",
       "      <th>outlook</th>\n",
       "      <th>temp</th>\n",
       "      <th>humidity</th>\n",
       "      <th>wind</th>\n",
       "      <th>play</th>\n",
       "    </tr>\n",
       "  </thead>\n",
       "  <tbody>\n",
       "    <tr>\n",
       "      <td>0</td>\n",
       "      <td>D1</td>\n",
       "      <td>Sunny</td>\n",
       "      <td>Hot</td>\n",
       "      <td>High</td>\n",
       "      <td>Weak</td>\n",
       "      <td>No</td>\n",
       "    </tr>\n",
       "    <tr>\n",
       "      <td>1</td>\n",
       "      <td>D2</td>\n",
       "      <td>Sunny</td>\n",
       "      <td>Hot</td>\n",
       "      <td>High</td>\n",
       "      <td>Strong</td>\n",
       "      <td>No</td>\n",
       "    </tr>\n",
       "    <tr>\n",
       "      <td>2</td>\n",
       "      <td>D3</td>\n",
       "      <td>Overcast</td>\n",
       "      <td>Hot</td>\n",
       "      <td>High</td>\n",
       "      <td>Weak</td>\n",
       "      <td>Yes</td>\n",
       "    </tr>\n",
       "    <tr>\n",
       "      <td>3</td>\n",
       "      <td>D4</td>\n",
       "      <td>Rain</td>\n",
       "      <td>Mild</td>\n",
       "      <td>High</td>\n",
       "      <td>Weak</td>\n",
       "      <td>Yes</td>\n",
       "    </tr>\n",
       "    <tr>\n",
       "      <td>4</td>\n",
       "      <td>D5</td>\n",
       "      <td>Rain</td>\n",
       "      <td>Cool</td>\n",
       "      <td>Normal</td>\n",
       "      <td>Weak</td>\n",
       "      <td>Yes</td>\n",
       "    </tr>\n",
       "    <tr>\n",
       "      <td>5</td>\n",
       "      <td>D6</td>\n",
       "      <td>Rain</td>\n",
       "      <td>Cool</td>\n",
       "      <td>Normal</td>\n",
       "      <td>Strong</td>\n",
       "      <td>No</td>\n",
       "    </tr>\n",
       "    <tr>\n",
       "      <td>6</td>\n",
       "      <td>D7</td>\n",
       "      <td>Overcast</td>\n",
       "      <td>Cool</td>\n",
       "      <td>Normal</td>\n",
       "      <td>Strong</td>\n",
       "      <td>Yes</td>\n",
       "    </tr>\n",
       "    <tr>\n",
       "      <td>7</td>\n",
       "      <td>D8</td>\n",
       "      <td>Sunny</td>\n",
       "      <td>Mild</td>\n",
       "      <td>High</td>\n",
       "      <td>Weak</td>\n",
       "      <td>No</td>\n",
       "    </tr>\n",
       "    <tr>\n",
       "      <td>8</td>\n",
       "      <td>D9</td>\n",
       "      <td>Sunny</td>\n",
       "      <td>Cool</td>\n",
       "      <td>Normal</td>\n",
       "      <td>Weak</td>\n",
       "      <td>Yes</td>\n",
       "    </tr>\n",
       "    <tr>\n",
       "      <td>9</td>\n",
       "      <td>D10</td>\n",
       "      <td>Rain</td>\n",
       "      <td>Mild</td>\n",
       "      <td>Normal</td>\n",
       "      <td>Weak</td>\n",
       "      <td>Yes</td>\n",
       "    </tr>\n",
       "    <tr>\n",
       "      <td>10</td>\n",
       "      <td>D11</td>\n",
       "      <td>Sunny</td>\n",
       "      <td>Mild</td>\n",
       "      <td>Normal</td>\n",
       "      <td>Strong</td>\n",
       "      <td>Yes</td>\n",
       "    </tr>\n",
       "    <tr>\n",
       "      <td>11</td>\n",
       "      <td>D12</td>\n",
       "      <td>Overcast</td>\n",
       "      <td>Mild</td>\n",
       "      <td>High</td>\n",
       "      <td>Strong</td>\n",
       "      <td>Yes</td>\n",
       "    </tr>\n",
       "    <tr>\n",
       "      <td>12</td>\n",
       "      <td>D13</td>\n",
       "      <td>Overcast</td>\n",
       "      <td>Hot</td>\n",
       "      <td>Normal</td>\n",
       "      <td>Weak</td>\n",
       "      <td>Yes</td>\n",
       "    </tr>\n",
       "    <tr>\n",
       "      <td>13</td>\n",
       "      <td>D14</td>\n",
       "      <td>Rain</td>\n",
       "      <td>Mild</td>\n",
       "      <td>High</td>\n",
       "      <td>Strong</td>\n",
       "      <td>No</td>\n",
       "    </tr>\n",
       "  </tbody>\n",
       "</table>\n",
       "</div>"
      ],
      "text/plain": [
       "    day   outlook  temp humidity    wind play\n",
       "0    D1     Sunny   Hot     High    Weak   No\n",
       "1    D2     Sunny   Hot     High  Strong   No\n",
       "2    D3  Overcast   Hot     High    Weak  Yes\n",
       "3    D4      Rain  Mild     High    Weak  Yes\n",
       "4    D5      Rain  Cool   Normal    Weak  Yes\n",
       "5    D6      Rain  Cool   Normal  Strong   No\n",
       "6    D7  Overcast  Cool   Normal  Strong  Yes\n",
       "7    D8     Sunny  Mild     High    Weak   No\n",
       "8    D9     Sunny  Cool   Normal    Weak  Yes\n",
       "9   D10      Rain  Mild   Normal    Weak  Yes\n",
       "10  D11     Sunny  Mild   Normal  Strong  Yes\n",
       "11  D12  Overcast  Mild     High  Strong  Yes\n",
       "12  D13  Overcast   Hot   Normal    Weak  Yes\n",
       "13  D14      Rain  Mild     High  Strong   No"
      ]
     },
     "execution_count": 3,
     "metadata": {},
     "output_type": "execute_result"
    }
   ],
   "source": [
    "df"
   ]
  },
  {
   "cell_type": "markdown",
   "metadata": {},
   "source": [
    "### Total entropy of the data set"
   ]
  },
  {
   "cell_type": "code",
   "execution_count": 8,
   "metadata": {},
   "outputs": [],
   "source": [
    "prob = df['play'].value_counts()/df['play'].value_counts().sum()"
   ]
  },
  {
   "cell_type": "code",
   "execution_count": 25,
   "metadata": {},
   "outputs": [],
   "source": [
    "t_entropy = sum( -x*np.log(x) for x in prob)"
   ]
  },
  {
   "cell_type": "code",
   "execution_count": 27,
   "metadata": {},
   "outputs": [
    {
     "data": {
      "text/plain": [
       "0.6517565611726531"
      ]
     },
     "execution_count": 27,
     "metadata": {},
     "output_type": "execute_result"
    }
   ],
   "source": [
    "t_entropy"
   ]
  },
  {
   "cell_type": "markdown",
   "metadata": {},
   "source": [
    "### Entropy of Each columns"
   ]
  },
  {
   "cell_type": "code",
   "execution_count": 50,
   "metadata": {},
   "outputs": [
    {
     "data": {
      "text/plain": [
       "{'outlook': 0.48072261929232607,\n",
       " 'temp': 0.6315010221774208,\n",
       " 'humidity': 0.5465122114944403,\n",
       " 'wind': 0.6183974457364384}"
      ]
     },
     "execution_count": 50,
     "metadata": {},
     "output_type": "execute_result"
    }
   ],
   "source": [
    "final_entropies = {}\n",
    "for col in df.columns[1:-1]:\n",
    "    \n",
    "    ucol=df[col].unique()\n",
    "    ucol_entropy=[]\n",
    "    apply=[]\n",
    "    for x in ucol:\n",
    "        temp = (df[df[col]==x])\n",
    "        apply.append(temp.shape[0]/df.shape[0])\n",
    "        p=temp['play'].value_counts()/temp['play'].value_counts().sum()\n",
    "        ucol_entropy.append(sum([ -x*np.log(x) for x in p]))\n",
    "    \n",
    "    final_entropies[col]=np.dot(apply,ucol_entropy)\n",
    "final_entropies"
   ]
  },
  {
   "cell_type": "markdown",
   "metadata": {},
   "source": [
    "### Now, finding the IG (Information Gain) of each columns"
   ]
  },
  {
   "cell_type": "code",
   "execution_count": 58,
   "metadata": {},
   "outputs": [
    {
     "name": "stdout",
     "output_type": "stream",
     "text": [
      "IG of \"outlook\" column : 0.17103394188032706\n",
      "IG of \"temp\" column : 0.02025553899523236\n",
      "IG of \"humidity\" column : 0.10524434967821283\n",
      "IG of \"wind\" column : 0.033359115436214726\n",
      "\n",
      "Maximum IG is 0.17103394188032706\n"
     ]
    }
   ],
   "source": [
    "ig = {}\n",
    "for i in final_entropies.keys():\n",
    "    ig[i]=t_entropy-final_entropies[i]\n",
    "    print(f'IG of \"{i}\" column : {ig[i]}')\n",
    "print(f'\\nMaximum IG is {max(ig.values())}')"
   ]
  },
  {
   "cell_type": "markdown",
   "metadata": {},
   "source": [
    "#### We can clearly see that \"outlook\" column has the max IG. Therefore, the first split will be done on \"Outlook\" column."
   ]
  },
  {
   "cell_type": "markdown",
   "metadata": {},
   "source": [
    "## Part 2 :- Iris dataset."
   ]
  },
  {
   "cell_type": "code",
   "execution_count": 18,
   "metadata": {},
   "outputs": [],
   "source": [
    "df=pd.read_csv('iris.csv')\n",
    "df=df[['petal_length','species']]"
   ]
  },
  {
   "cell_type": "code",
   "execution_count": 19,
   "metadata": {},
   "outputs": [],
   "source": [
    "df.rename(columns={'petal_length':'pl'},inplace=True)"
   ]
  },
  {
   "cell_type": "code",
   "execution_count": 20,
   "metadata": {},
   "outputs": [
    {
     "data": {
      "text/html": [
       "<div>\n",
       "<style scoped>\n",
       "    .dataframe tbody tr th:only-of-type {\n",
       "        vertical-align: middle;\n",
       "    }\n",
       "\n",
       "    .dataframe tbody tr th {\n",
       "        vertical-align: top;\n",
       "    }\n",
       "\n",
       "    .dataframe thead th {\n",
       "        text-align: right;\n",
       "    }\n",
       "</style>\n",
       "<table border=\"1\" class=\"dataframe\">\n",
       "  <thead>\n",
       "    <tr style=\"text-align: right;\">\n",
       "      <th></th>\n",
       "      <th>pl</th>\n",
       "      <th>species</th>\n",
       "    </tr>\n",
       "  </thead>\n",
       "  <tbody>\n",
       "    <tr>\n",
       "      <td>0</td>\n",
       "      <td>1.4</td>\n",
       "      <td>setosa</td>\n",
       "    </tr>\n",
       "    <tr>\n",
       "      <td>1</td>\n",
       "      <td>1.4</td>\n",
       "      <td>setosa</td>\n",
       "    </tr>\n",
       "    <tr>\n",
       "      <td>2</td>\n",
       "      <td>1.3</td>\n",
       "      <td>setosa</td>\n",
       "    </tr>\n",
       "    <tr>\n",
       "      <td>3</td>\n",
       "      <td>1.5</td>\n",
       "      <td>setosa</td>\n",
       "    </tr>\n",
       "    <tr>\n",
       "      <td>4</td>\n",
       "      <td>1.4</td>\n",
       "      <td>setosa</td>\n",
       "    </tr>\n",
       "    <tr>\n",
       "      <td>...</td>\n",
       "      <td>...</td>\n",
       "      <td>...</td>\n",
       "    </tr>\n",
       "    <tr>\n",
       "      <td>145</td>\n",
       "      <td>5.2</td>\n",
       "      <td>virginica</td>\n",
       "    </tr>\n",
       "    <tr>\n",
       "      <td>146</td>\n",
       "      <td>5.0</td>\n",
       "      <td>virginica</td>\n",
       "    </tr>\n",
       "    <tr>\n",
       "      <td>147</td>\n",
       "      <td>5.2</td>\n",
       "      <td>virginica</td>\n",
       "    </tr>\n",
       "    <tr>\n",
       "      <td>148</td>\n",
       "      <td>5.4</td>\n",
       "      <td>virginica</td>\n",
       "    </tr>\n",
       "    <tr>\n",
       "      <td>149</td>\n",
       "      <td>5.1</td>\n",
       "      <td>virginica</td>\n",
       "    </tr>\n",
       "  </tbody>\n",
       "</table>\n",
       "<p>150 rows × 2 columns</p>\n",
       "</div>"
      ],
      "text/plain": [
       "      pl    species\n",
       "0    1.4     setosa\n",
       "1    1.4     setosa\n",
       "2    1.3     setosa\n",
       "3    1.5     setosa\n",
       "4    1.4     setosa\n",
       "..   ...        ...\n",
       "145  5.2  virginica\n",
       "146  5.0  virginica\n",
       "147  5.2  virginica\n",
       "148  5.4  virginica\n",
       "149  5.1  virginica\n",
       "\n",
       "[150 rows x 2 columns]"
      ]
     },
     "execution_count": 20,
     "metadata": {},
     "output_type": "execute_result"
    }
   ],
   "source": [
    "df"
   ]
  },
  {
   "cell_type": "markdown",
   "metadata": {},
   "source": [
    "### Total entropy of the dataset"
   ]
  },
  {
   "cell_type": "code",
   "execution_count": 21,
   "metadata": {},
   "outputs": [],
   "source": [
    "prob = df['species'].value_counts()/df['species'].value_counts().sum()"
   ]
  },
  {
   "cell_type": "code",
   "execution_count": 22,
   "metadata": {},
   "outputs": [],
   "source": [
    "t_entropy = sum( (-x*np.log(x)) for x in prob)"
   ]
  },
  {
   "cell_type": "code",
   "execution_count": 26,
   "metadata": {},
   "outputs": [
    {
     "data": {
      "text/plain": [
       "1.0986122886681096"
      ]
     },
     "execution_count": 26,
     "metadata": {},
     "output_type": "execute_result"
    }
   ],
   "source": [
    "t_entropy"
   ]
  },
  {
   "cell_type": "code",
   "execution_count": 24,
   "metadata": {},
   "outputs": [],
   "source": [
    "## Sorting the dataset.....\n",
    "df.sort_values(by='pl',ascending=True,inplace=True)"
   ]
  },
  {
   "cell_type": "code",
   "execution_count": 25,
   "metadata": {},
   "outputs": [
    {
     "data": {
      "text/html": [
       "<div>\n",
       "<style scoped>\n",
       "    .dataframe tbody tr th:only-of-type {\n",
       "        vertical-align: middle;\n",
       "    }\n",
       "\n",
       "    .dataframe tbody tr th {\n",
       "        vertical-align: top;\n",
       "    }\n",
       "\n",
       "    .dataframe thead th {\n",
       "        text-align: right;\n",
       "    }\n",
       "</style>\n",
       "<table border=\"1\" class=\"dataframe\">\n",
       "  <thead>\n",
       "    <tr style=\"text-align: right;\">\n",
       "      <th></th>\n",
       "      <th>pl</th>\n",
       "      <th>species</th>\n",
       "    </tr>\n",
       "  </thead>\n",
       "  <tbody>\n",
       "    <tr>\n",
       "      <td>22</td>\n",
       "      <td>1.0</td>\n",
       "      <td>setosa</td>\n",
       "    </tr>\n",
       "    <tr>\n",
       "      <td>13</td>\n",
       "      <td>1.1</td>\n",
       "      <td>setosa</td>\n",
       "    </tr>\n",
       "    <tr>\n",
       "      <td>14</td>\n",
       "      <td>1.2</td>\n",
       "      <td>setosa</td>\n",
       "    </tr>\n",
       "    <tr>\n",
       "      <td>35</td>\n",
       "      <td>1.2</td>\n",
       "      <td>setosa</td>\n",
       "    </tr>\n",
       "    <tr>\n",
       "      <td>36</td>\n",
       "      <td>1.3</td>\n",
       "      <td>setosa</td>\n",
       "    </tr>\n",
       "    <tr>\n",
       "      <td>...</td>\n",
       "      <td>...</td>\n",
       "      <td>...</td>\n",
       "    </tr>\n",
       "    <tr>\n",
       "      <td>131</td>\n",
       "      <td>6.4</td>\n",
       "      <td>virginica</td>\n",
       "    </tr>\n",
       "    <tr>\n",
       "      <td>105</td>\n",
       "      <td>6.6</td>\n",
       "      <td>virginica</td>\n",
       "    </tr>\n",
       "    <tr>\n",
       "      <td>117</td>\n",
       "      <td>6.7</td>\n",
       "      <td>virginica</td>\n",
       "    </tr>\n",
       "    <tr>\n",
       "      <td>122</td>\n",
       "      <td>6.7</td>\n",
       "      <td>virginica</td>\n",
       "    </tr>\n",
       "    <tr>\n",
       "      <td>118</td>\n",
       "      <td>6.9</td>\n",
       "      <td>virginica</td>\n",
       "    </tr>\n",
       "  </tbody>\n",
       "</table>\n",
       "<p>150 rows × 2 columns</p>\n",
       "</div>"
      ],
      "text/plain": [
       "      pl    species\n",
       "22   1.0     setosa\n",
       "13   1.1     setosa\n",
       "14   1.2     setosa\n",
       "35   1.2     setosa\n",
       "36   1.3     setosa\n",
       "..   ...        ...\n",
       "131  6.4  virginica\n",
       "105  6.6  virginica\n",
       "117  6.7  virginica\n",
       "122  6.7  virginica\n",
       "118  6.9  virginica\n",
       "\n",
       "[150 rows x 2 columns]"
      ]
     },
     "execution_count": 25,
     "metadata": {},
     "output_type": "execute_result"
    }
   ],
   "source": [
    "df"
   ]
  },
  {
   "cell_type": "code",
   "execution_count": 44,
   "metadata": {},
   "outputs": [],
   "source": [
    "def find_IG(n):\n",
    "    df1=df[df['pl']>n]\n",
    "    df2=df[df['pl']<=n]\n",
    "    \n",
    "    if((df1[df1['species']=='versicolor']['species'].shape[0]>0) & (df1[df1['species']=='virginica']['species'].shape[0]>0) & (df1[df1['species']=='setosa']['species'].shape[0]>0) & (df2[df2['species']=='versicolor']['species'].shape[0]==0) & (df2[df2['species']=='virginica']['species'].shape[0]==0) & (df2[df2['species']=='setosa']['species'].shape[0]>0)):\n",
    "        \n",
    "        E1=round(-(df1[df1['species']=='virginica'].shape[0])/(df1.shape[0])*np.log((df1[df1['species']=='virginica'].shape[0])/(df1.shape[0]))-(df1[df1['species']=='versicolor'].shape[0])/(df1.shape[0])*np.log((df1[df1['species']=='versicolor'].shape[0])/(df1.shape[0]))-(df1[df1['species']=='setosa'].shape[0])/(df1.shape[0])*np.log((df1[df1['species']=='setosa'].shape[0])/(df1.shape[0])))\n",
    "        E2=round(-(df2[df2['species']=='setosa'].shape[0])/(df2.shape[0])*np.log((df2[df2['species']=='setosa'].shape[0])/(df2.shape[0])))\n",
    "        \n",
    "    elif((df1[df1['species']=='versicolor']['species'].shape[0]>0) & (df1[df1['species']=='virginica']['species'].shape[0]>0) & (df1[df1['species']=='setosa']['species'].shape[0]==0) & (df2[df2['species']=='versicolor']['species'].shape[0]==0) & (df2[df2['species']=='virginica']['species'].shape[0]==0) & (df2[df2['species']=='setosa']['species'].shape[0]>0)):\n",
    "        \n",
    "        E1=round(-(df1[df1['species']=='virginica'].shape[0])/(df1.shape[0])*np.log((df1[df1['species']=='virginica'].shape[0])/(df1.shape[0]))-(df1[df1['species']=='versicolor'].shape[0])/(df1.shape[0])*np.log((df1[df1['species']=='versicolor'].shape[0])/(df1.shape[0])))\n",
    "        E2=round(-(df2[df2['species']=='setosa'].shape[0])/(df2.shape[0])*np.log((df2[df2['species']=='setosa'].shape[0])/(df2.shape[0])))\n",
    "           \n",
    "    elif((df1[df1['species']=='versicolor']['species'].shape[0]>0) & (df1[df1['species']=='virginica']['species'].shape[0]>0) & (df1[df1['species']=='setosa']['species'].shape[0]==0) & (df2[df2['species']=='versicolor']['species'].shape[0]>0) & (df2[df2['species']=='virginica']['species'].shape[0]==0) & (df2[df2['species']=='setosa']['species'].shape[0]>0)):\n",
    "        \n",
    "        E1=round(-(df1[df1['species']=='versicolor'].shape[0])/(df1.shape[0])*np.log((df1[df1['species']=='versicolor'].shape[0])/(df1.shape[0]))-(df1[df1['species']=='virginica'].shape[0])/(df1.shape[0])*np.log((df1[df1['species']=='virginica'].shape[0])/(df1.shape[0])))\n",
    "        E2=round(-(df2[df2['species']=='versicolor'].shape[0])/(df2.shape[0])*np.log((df2[df2['species']=='versicolor'].shape[0])/(df2.shape[0]))-(df2[df2['species']=='setosa'].shape[0])/(df2.shape[0])*np.log((df2[df2['species']=='setosa'].shape[0])/(df2.shape[0])))\n",
    "\n",
    "    elif((df1[df1['species']=='versicolor']['species'].shape[0]>0) & (df1[df1['species']=='virginica']['species'].shape[0]>0) & (df1[df1['species']=='setosa']['species'].shape[0]==0) & (df2[df2['species']=='versicolor']['species'].shape[0]>0) & (df2[df2['species']=='virginica']['species'].shape[0]>0) & (df2[df2['species']=='setosa']['species'].shape[0]>0)):\n",
    "        \n",
    "        E1=round(-(df1[df1['species']=='versicolor'].shape[0])/(df1.shape[0])*np.log((df1[df1['species']=='versicolor'].shape[0])/(df1.shape[0]))-(df1[df1['species']=='virginica'].shape[0])/(df1.shape[0])*np.log((df1[df1['species']=='virginica'].shape[0])/(df1.shape[0])))\n",
    "        E2=round(-(df2[df2['species']=='virginica'].shape[0])/(df2.shape[0])*np.log((df2[df2['species']=='virginica'].shape[0])/(df2.shape[0]))-(df2[df2['species']=='versicolor'].shape[0])/(df2.shape[0])*np.log((df2[df2['species']=='versicolor'].shape[0])/(df2.shape[0]))-(df2[df2['species']=='setosa'].shape[0])/(df2.shape[0])*np.log((df2[df2['species']=='setosa'].shape[0])/(df2.shape[0])))     \n",
    "        \n",
    "    elif((df1[df1['species']=='versicolor']['species'].shape[0]==0) & (df1[df1['species']=='virginica']['species'].shape[0]>0) & (df1[df1['species']=='setosa']['species'].shape[0]==0) & (df2[df2['species']=='versicolor']['species'].shape[0]>0) & (df2[df2['species']=='virginica']['species'].shape[0]>0) & (df2[df2['species']=='setosa']['species'].shape[0]>0)):       \n",
    "        E1=round(-(df1[df1['species']=='virginica'].shape[0])/(df1.shape[0])*np.log((df1[df1['species']=='virginica'].shape[0])/(df1.shape[0])))\n",
    "        E2=round(-(df2[df2['species']=='virginica'].shape[0])/(df2.shape[0])*np.log((df2[df2['species']=='virginica'].shape[0])/(df2.shape[0]))-(df2[df2['species']=='versicolor'].shape[0])/(df2.shape[0])*np.log((df2[df2['species']=='versicolor'].shape[0])/(df2.shape[0]))-(df2[df2['species']=='setosa'].shape[0])/(df2.shape[0])*np.log((df2[df2['species']=='setosa'].shape[0])/(df2.shape[0])))\n",
    "        \n",
    "    apply=(df1.shape[0]/df.shape[0])*E1+(df2.shape[0]/df.shape[0])*E2\n",
    "    \n",
    "    ig=round(t_entropy-apply,2)\n",
    "    \n",
    "    return ig"
   ]
  },
  {
   "cell_type": "code",
   "execution_count": 47,
   "metadata": {},
   "outputs": [],
   "source": [
    "ig=[]\n",
    "for n in df['pl']:  \n",
    "    try:  \n",
    "        ig.append(find_IG(n))        \n",
    "    except:\n",
    "        ig.append(np.nan)"
   ]
  },
  {
   "cell_type": "code",
   "execution_count": 49,
   "metadata": {},
   "outputs": [],
   "source": [
    "## Adding an IG column into dataset.\n",
    "df['IG']=ig"
   ]
  },
  {
   "cell_type": "code",
   "execution_count": 50,
   "metadata": {},
   "outputs": [
    {
     "data": {
      "text/html": [
       "<div>\n",
       "<style scoped>\n",
       "    .dataframe tbody tr th:only-of-type {\n",
       "        vertical-align: middle;\n",
       "    }\n",
       "\n",
       "    .dataframe tbody tr th {\n",
       "        vertical-align: top;\n",
       "    }\n",
       "\n",
       "    .dataframe thead th {\n",
       "        text-align: right;\n",
       "    }\n",
       "</style>\n",
       "<table border=\"1\" class=\"dataframe\">\n",
       "  <thead>\n",
       "    <tr style=\"text-align: right;\">\n",
       "      <th></th>\n",
       "      <th>pl</th>\n",
       "      <th>species</th>\n",
       "      <th>IG</th>\n",
       "    </tr>\n",
       "  </thead>\n",
       "  <tbody>\n",
       "    <tr>\n",
       "      <td>22</td>\n",
       "      <td>1.0</td>\n",
       "      <td>setosa</td>\n",
       "      <td>0.11</td>\n",
       "    </tr>\n",
       "    <tr>\n",
       "      <td>13</td>\n",
       "      <td>1.1</td>\n",
       "      <td>setosa</td>\n",
       "      <td>0.11</td>\n",
       "    </tr>\n",
       "    <tr>\n",
       "      <td>14</td>\n",
       "      <td>1.2</td>\n",
       "      <td>setosa</td>\n",
       "      <td>0.13</td>\n",
       "    </tr>\n",
       "    <tr>\n",
       "      <td>35</td>\n",
       "      <td>1.2</td>\n",
       "      <td>setosa</td>\n",
       "      <td>0.13</td>\n",
       "    </tr>\n",
       "    <tr>\n",
       "      <td>36</td>\n",
       "      <td>1.3</td>\n",
       "      <td>setosa</td>\n",
       "      <td>0.17</td>\n",
       "    </tr>\n",
       "    <tr>\n",
       "      <td>...</td>\n",
       "      <td>...</td>\n",
       "      <td>...</td>\n",
       "      <td>...</td>\n",
       "    </tr>\n",
       "    <tr>\n",
       "      <td>131</td>\n",
       "      <td>6.4</td>\n",
       "      <td>virginica</td>\n",
       "      <td>0.13</td>\n",
       "    </tr>\n",
       "    <tr>\n",
       "      <td>105</td>\n",
       "      <td>6.6</td>\n",
       "      <td>virginica</td>\n",
       "      <td>0.12</td>\n",
       "    </tr>\n",
       "    <tr>\n",
       "      <td>117</td>\n",
       "      <td>6.7</td>\n",
       "      <td>virginica</td>\n",
       "      <td>0.11</td>\n",
       "    </tr>\n",
       "    <tr>\n",
       "      <td>122</td>\n",
       "      <td>6.7</td>\n",
       "      <td>virginica</td>\n",
       "      <td>0.11</td>\n",
       "    </tr>\n",
       "    <tr>\n",
       "      <td>118</td>\n",
       "      <td>6.9</td>\n",
       "      <td>virginica</td>\n",
       "      <td>NaN</td>\n",
       "    </tr>\n",
       "  </tbody>\n",
       "</table>\n",
       "<p>150 rows × 3 columns</p>\n",
       "</div>"
      ],
      "text/plain": [
       "      pl    species    IG\n",
       "22   1.0     setosa  0.11\n",
       "13   1.1     setosa  0.11\n",
       "14   1.2     setosa  0.13\n",
       "35   1.2     setosa  0.13\n",
       "36   1.3     setosa  0.17\n",
       "..   ...        ...   ...\n",
       "131  6.4  virginica  0.13\n",
       "105  6.6  virginica  0.12\n",
       "117  6.7  virginica  0.11\n",
       "122  6.7  virginica  0.11\n",
       "118  6.9  virginica   NaN\n",
       "\n",
       "[150 rows x 3 columns]"
      ]
     },
     "execution_count": 50,
     "metadata": {},
     "output_type": "execute_result"
    }
   ],
   "source": [
    "df"
   ]
  },
  {
   "cell_type": "code",
   "execution_count": 54,
   "metadata": {},
   "outputs": [
    {
     "data": {
      "text/html": [
       "<div>\n",
       "<style scoped>\n",
       "    .dataframe tbody tr th:only-of-type {\n",
       "        vertical-align: middle;\n",
       "    }\n",
       "\n",
       "    .dataframe tbody tr th {\n",
       "        vertical-align: top;\n",
       "    }\n",
       "\n",
       "    .dataframe thead th {\n",
       "        text-align: right;\n",
       "    }\n",
       "</style>\n",
       "<table border=\"1\" class=\"dataframe\">\n",
       "  <thead>\n",
       "    <tr style=\"text-align: right;\">\n",
       "      <th></th>\n",
       "      <th>pl</th>\n",
       "      <th>species</th>\n",
       "      <th>IG</th>\n",
       "    </tr>\n",
       "  </thead>\n",
       "  <tbody>\n",
       "    <tr>\n",
       "      <td>69</td>\n",
       "      <td>3.9</td>\n",
       "      <td>versicolor</td>\n",
       "      <td>0.51</td>\n",
       "    </tr>\n",
       "    <tr>\n",
       "      <td>82</td>\n",
       "      <td>3.9</td>\n",
       "      <td>versicolor</td>\n",
       "      <td>0.51</td>\n",
       "    </tr>\n",
       "    <tr>\n",
       "      <td>59</td>\n",
       "      <td>3.9</td>\n",
       "      <td>versicolor</td>\n",
       "      <td>0.51</td>\n",
       "    </tr>\n",
       "  </tbody>\n",
       "</table>\n",
       "</div>"
      ],
      "text/plain": [
       "     pl     species    IG\n",
       "69  3.9  versicolor  0.51\n",
       "82  3.9  versicolor  0.51\n",
       "59  3.9  versicolor  0.51"
      ]
     },
     "execution_count": 54,
     "metadata": {},
     "output_type": "execute_result"
    }
   ],
   "source": [
    "df[df['IG']==df['IG'].max()]"
   ]
  },
  {
   "cell_type": "markdown",
   "metadata": {},
   "source": [
    "## Therefore, the first split will be done at pl>3.9"
   ]
  }
 ],
 "metadata": {
  "kernelspec": {
   "display_name": "Python 3",
   "language": "python",
   "name": "python3"
  },
  "language_info": {
   "codemirror_mode": {
    "name": "ipython",
    "version": 3
   },
   "file_extension": ".py",
   "mimetype": "text/x-python",
   "name": "python",
   "nbconvert_exporter": "python",
   "pygments_lexer": "ipython3",
   "version": "3.7.4"
  }
 },
 "nbformat": 4,
 "nbformat_minor": 2
}
